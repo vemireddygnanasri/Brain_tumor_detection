{
 "cells": [
  {
   "cell_type": "markdown",
   "id": "a92f0c0a",
   "metadata": {},
   "source": [
    "## Importing the required libraries"
   ]
  },
  {
   "cell_type": "code",
   "execution_count": 1,
   "id": "ad19501d",
   "metadata": {},
   "outputs": [],
   "source": [
    "import numpy as np\n",
    "from tensorflow.keras.layers import *\n",
    "from tensorflow.keras.models import *\n",
    "from tensorflow.keras.preprocessing import image\n",
    "import matplotlib.pyplot as plt"
   ]
  },
  {
   "cell_type": "markdown",
   "id": "4bcd688c",
   "metadata": {},
   "source": [
    "## Initializing the path"
   ]
  },
  {
   "cell_type": "code",
   "execution_count": 2,
   "id": "cd1ebe33",
   "metadata": {},
   "outputs": [],
   "source": [
    "train_path=('C:/Users/srilu/Documents/GitHub/Brain-Tumor-Detection/Train')\n",
    "test_path=('C:/Users/srilu/Documents/GitHub/Brain-Tumor-Detection/Test')\n"
   ]
  },
  {
   "cell_type": "markdown",
   "id": "10bfdddb",
   "metadata": {},
   "source": [
    "## Model building"
   ]
  },
  {
   "cell_type": "code",
   "execution_count": 3,
   "id": "ab0f3606",
   "metadata": {},
   "outputs": [],
   "source": [
    "model=Sequential()\n",
    "model.add(Conv2D(32,kernel_size=(3,3),activation='relu',input_shape=(224,224,3)))\n",
    "model.add(Conv2D(64,kernel_size=(3,3),activation='relu'))\n",
    "model.add(MaxPooling2D(pool_size=(2,2)))\n",
    "model.add(Dropout(0.25))\n",
    "\n",
    "model.add(Conv2D(64,kernel_size=(3,3),activation='relu'))\n",
    "model.add(MaxPooling2D(pool_size=(2,2)))\n",
    "model.add(Dropout(0.25))\n",
    "\n",
    "model.add(Conv2D(128,kernel_size=(3,3),activation='relu'))\n",
    "model.add(MaxPooling2D(pool_size=(2,2)))\n",
    "model.add(Dropout(0.25))\n",
    "\n",
    "model.add(Flatten())\n",
    "model.add(Dense(64,activation='relu'))\n",
    "model.add(Dropout(0.5))\n",
    "model.add(Dense(1,activation='sigmoid'))\n",
    "\n",
    "model.compile(loss='binary_crossentropy',optimizer='adam',metrics=['accuracy'])"
   ]
  },
  {
   "cell_type": "code",
   "execution_count": 4,
   "id": "17678baf",
   "metadata": {},
   "outputs": [
    {
     "name": "stdout",
     "output_type": "stream",
     "text": [
      "Model: \"sequential\"\n",
      "_________________________________________________________________\n",
      " Layer (type)                Output Shape              Param #   \n",
      "=================================================================\n",
      " conv2d (Conv2D)             (None, 222, 222, 32)      896       \n",
      "                                                                 \n",
      " conv2d_1 (Conv2D)           (None, 220, 220, 64)      18496     \n",
      "                                                                 \n",
      " max_pooling2d (MaxPooling2D  (None, 110, 110, 64)     0         \n",
      " )                                                               \n",
      "                                                                 \n",
      " dropout (Dropout)           (None, 110, 110, 64)      0         \n",
      "                                                                 \n",
      " conv2d_2 (Conv2D)           (None, 108, 108, 64)      36928     \n",
      "                                                                 \n",
      " max_pooling2d_1 (MaxPooling  (None, 54, 54, 64)       0         \n",
      " 2D)                                                             \n",
      "                                                                 \n",
      " dropout_1 (Dropout)         (None, 54, 54, 64)        0         \n",
      "                                                                 \n",
      " conv2d_3 (Conv2D)           (None, 52, 52, 128)       73856     \n",
      "                                                                 \n",
      " max_pooling2d_2 (MaxPooling  (None, 26, 26, 128)      0         \n",
      " 2D)                                                             \n",
      "                                                                 \n",
      " dropout_2 (Dropout)         (None, 26, 26, 128)       0         \n",
      "                                                                 \n",
      " flatten (Flatten)           (None, 86528)             0         \n",
      "                                                                 \n",
      " dense (Dense)               (None, 64)                5537856   \n",
      "                                                                 \n",
      " dropout_3 (Dropout)         (None, 64)                0         \n",
      "                                                                 \n",
      " dense_1 (Dense)             (None, 1)                 65        \n",
      "                                                                 \n",
      "=================================================================\n",
      "Total params: 5,668,097\n",
      "Trainable params: 5,668,097\n",
      "Non-trainable params: 0\n",
      "_________________________________________________________________\n"
     ]
    }
   ],
   "source": [
    "model.summary()"
   ]
  },
  {
   "cell_type": "markdown",
   "id": "a2d99a3f",
   "metadata": {},
   "source": [
    "## Train-test Split"
   ]
  },
  {
   "cell_type": "code",
   "execution_count": 5,
   "id": "c9815c6f",
   "metadata": {},
   "outputs": [],
   "source": [
    "# Train from scratch\n",
    "train_datagen = image.ImageDataGenerator(\n",
    "    rescale = 1./255,\n",
    "    shear_range = 0.2,\n",
    "    zoom_range = 0.2,\n",
    "    horizontal_flip = True,\n",
    ")\n",
    "\n",
    "test_datagen = image.ImageDataGenerator(rescale=1./255)"
   ]
  },
  {
   "cell_type": "code",
   "execution_count": 6,
   "id": "4acee074",
   "metadata": {},
   "outputs": [
    {
     "name": "stdout",
     "output_type": "stream",
     "text": [
      "Found 213 images belonging to 2 classes.\n"
     ]
    }
   ],
   "source": [
    "train_dataset = train_datagen.flow_from_directory(\n",
    "    train_path,\n",
    "    target_size = (224,224),\n",
    "    batch_size = 32,\n",
    "    class_mode = 'binary')"
   ]
  },
  {
   "cell_type": "code",
   "execution_count": 7,
   "id": "08b4b342",
   "metadata": {},
   "outputs": [
    {
     "data": {
      "text/plain": [
       "{'no': 0, 'yes': 1}"
      ]
     },
     "execution_count": 7,
     "metadata": {},
     "output_type": "execute_result"
    }
   ],
   "source": [
    "train_dataset.class_indices"
   ]
  },
  {
   "cell_type": "code",
   "execution_count": 8,
   "id": "f2a80062",
   "metadata": {},
   "outputs": [
    {
     "name": "stdout",
     "output_type": "stream",
     "text": [
      "Found 40 images belonging to 2 classes.\n"
     ]
    }
   ],
   "source": [
    "test_dataset = test_datagen.flow_from_directory(\n",
    "    test_path,\n",
    "    target_size = (224,224),\n",
    "    batch_size = 32,\n",
    "    class_mode = 'binary')"
   ]
  },
  {
   "cell_type": "markdown",
   "id": "0ce21e94",
   "metadata": {},
   "source": [
    "## Training the model"
   ]
  },
  {
   "cell_type": "code",
   "execution_count": 9,
   "id": "9f18bacf",
   "metadata": {},
   "outputs": [
    {
     "name": "stdout",
     "output_type": "stream",
     "text": [
      "Epoch 1/30\n",
      "7/7 [==============================] - 29s 4s/step - loss: 1.1829 - accuracy: 0.5258 - val_loss: 0.6880 - val_accuracy: 0.7500\n",
      "Epoch 2/30\n",
      "7/7 [==============================] - 27s 4s/step - loss: 0.6577 - accuracy: 0.6056 - val_loss: 0.6611 - val_accuracy: 0.5000\n",
      "Epoch 3/30\n",
      "7/7 [==============================] - 27s 4s/step - loss: 0.6126 - accuracy: 0.6479 - val_loss: 0.6463 - val_accuracy: 0.7250\n",
      "Epoch 4/30\n",
      "7/7 [==============================] - 27s 4s/step - loss: 0.6693 - accuracy: 0.6244 - val_loss: 0.6592 - val_accuracy: 0.6000\n",
      "Epoch 5/30\n",
      "7/7 [==============================] - 27s 4s/step - loss: 0.6467 - accuracy: 0.6761 - val_loss: 0.6475 - val_accuracy: 0.5000\n",
      "Epoch 6/30\n",
      "7/7 [==============================] - 27s 4s/step - loss: 0.6117 - accuracy: 0.6995 - val_loss: 0.6234 - val_accuracy: 0.7000\n",
      "Epoch 7/30\n",
      "7/7 [==============================] - 27s 4s/step - loss: 0.5931 - accuracy: 0.7089 - val_loss: 0.6212 - val_accuracy: 0.6750\n",
      "Epoch 8/30\n",
      "7/7 [==============================] - 27s 4s/step - loss: 0.5846 - accuracy: 0.6995 - val_loss: 0.5561 - val_accuracy: 0.7250\n",
      "Epoch 9/30\n",
      "7/7 [==============================] - 27s 4s/step - loss: 0.6084 - accuracy: 0.7042 - val_loss: 0.6203 - val_accuracy: 0.7000\n",
      "Epoch 10/30\n",
      "7/7 [==============================] - 30s 4s/step - loss: 0.5857 - accuracy: 0.7089 - val_loss: 0.5844 - val_accuracy: 0.7000\n",
      "Epoch 11/30\n",
      "7/7 [==============================] - 27s 4s/step - loss: 0.5553 - accuracy: 0.7465 - val_loss: 0.5519 - val_accuracy: 0.7250\n",
      "Epoch 12/30\n",
      "7/7 [==============================] - 27s 4s/step - loss: 0.5952 - accuracy: 0.6620 - val_loss: 0.5689 - val_accuracy: 0.7250\n",
      "Epoch 13/30\n",
      "7/7 [==============================] - 31s 5s/step - loss: 0.5435 - accuracy: 0.7559 - val_loss: 0.5560 - val_accuracy: 0.7250\n",
      "Epoch 14/30\n",
      "7/7 [==============================] - 33s 5s/step - loss: 0.5612 - accuracy: 0.7042 - val_loss: 0.5257 - val_accuracy: 0.7250\n",
      "Epoch 15/30\n",
      "7/7 [==============================] - 33s 4s/step - loss: 0.5715 - accuracy: 0.7277 - val_loss: 0.5430 - val_accuracy: 0.7250\n",
      "Epoch 16/30\n",
      "7/7 [==============================] - 24s 3s/step - loss: 0.5316 - accuracy: 0.7136 - val_loss: 0.5166 - val_accuracy: 0.7250\n",
      "Epoch 17/30\n",
      "7/7 [==============================] - 25s 4s/step - loss: 0.5680 - accuracy: 0.7700 - val_loss: 0.5145 - val_accuracy: 0.7750\n",
      "Epoch 18/30\n",
      "7/7 [==============================] - 25s 3s/step - loss: 0.4928 - accuracy: 0.7418 - val_loss: 0.5161 - val_accuracy: 0.7500\n",
      "Epoch 19/30\n",
      "7/7 [==============================] - 25s 4s/step - loss: 0.4806 - accuracy: 0.7653 - val_loss: 0.5477 - val_accuracy: 0.7250\n",
      "Epoch 20/30\n",
      "7/7 [==============================] - 25s 3s/step - loss: 0.5312 - accuracy: 0.7559 - val_loss: 0.4551 - val_accuracy: 0.8000\n",
      "Epoch 21/30\n",
      "7/7 [==============================] - 25s 3s/step - loss: 0.5096 - accuracy: 0.7371 - val_loss: 0.4524 - val_accuracy: 0.7750\n",
      "Epoch 22/30\n",
      "7/7 [==============================] - 25s 3s/step - loss: 0.4490 - accuracy: 0.7887 - val_loss: 0.4088 - val_accuracy: 0.8000\n",
      "Epoch 23/30\n",
      "7/7 [==============================] - 25s 3s/step - loss: 0.4752 - accuracy: 0.7230 - val_loss: 0.4481 - val_accuracy: 0.8000\n",
      "Epoch 24/30\n",
      "7/7 [==============================] - 25s 3s/step - loss: 0.4402 - accuracy: 0.7840 - val_loss: 0.3679 - val_accuracy: 0.8750\n",
      "Epoch 25/30\n",
      "7/7 [==============================] - 26s 4s/step - loss: 0.4724 - accuracy: 0.7653 - val_loss: 0.4989 - val_accuracy: 0.8250\n",
      "Epoch 26/30\n",
      "7/7 [==============================] - 25s 3s/step - loss: 0.4688 - accuracy: 0.7793 - val_loss: 0.4661 - val_accuracy: 0.8500\n",
      "Epoch 27/30\n",
      "7/7 [==============================] - 25s 4s/step - loss: 0.4768 - accuracy: 0.7653 - val_loss: 0.3952 - val_accuracy: 0.9250\n",
      "Epoch 28/30\n",
      "7/7 [==============================] - 25s 4s/step - loss: 0.4739 - accuracy: 0.7606 - val_loss: 0.5130 - val_accuracy: 0.7500\n",
      "Epoch 29/30\n",
      "7/7 [==============================] - 26s 4s/step - loss: 0.4415 - accuracy: 0.7324 - val_loss: 0.5185 - val_accuracy: 0.7750\n",
      "Epoch 30/30\n",
      "7/7 [==============================] - 26s 4s/step - loss: 0.4438 - accuracy: 0.7512 - val_loss: 0.5305 - val_accuracy: 0.8000\n"
     ]
    }
   ],
   "source": [
    "hist = model.fit(\n",
    "    train_dataset,\n",
    "    epochs = 30,\n",
    "    validation_data = test_dataset\n",
    ")"
   ]
  },
  {
   "cell_type": "code",
   "execution_count": 10,
   "id": "0c582b88",
   "metadata": {},
   "outputs": [],
   "source": [
    "model.save('model.h5')"
   ]
  },
  {
   "cell_type": "code",
   "execution_count": 11,
   "id": "67508f27",
   "metadata": {},
   "outputs": [],
   "source": [
    "from tensorflow.keras.preprocessing.image import load_img"
   ]
  },
  {
   "cell_type": "markdown",
   "id": "ede75387",
   "metadata": {},
   "source": [
    "## Testing the model"
   ]
  },
  {
   "cell_type": "code",
   "execution_count": 12,
   "id": "2411fdc6",
   "metadata": {},
   "outputs": [],
   "source": [
    "img=image.load_img('C:/Users/srilu/Documents/GitHub/Brain-Tumor-Detection/Test/no/3 no.jpg',target_size=(224,224))"
   ]
  },
  {
   "cell_type": "code",
   "execution_count": 13,
   "id": "7d4c6d01",
   "metadata": {},
   "outputs": [],
   "source": [
    "x=image.img_to_array(img)\n",
    "x=x/255"
   ]
  },
  {
   "cell_type": "code",
   "execution_count": 14,
   "id": "c84f9779",
   "metadata": {},
   "outputs": [],
   "source": [
    "x=np.expand_dims(x,axis=0)"
   ]
  },
  {
   "cell_type": "code",
   "execution_count": 15,
   "id": "7077ace8",
   "metadata": {},
   "outputs": [],
   "source": [
    "pred=model.predict(x)"
   ]
  },
  {
   "cell_type": "code",
   "execution_count": 16,
   "id": "3a471dca",
   "metadata": {},
   "outputs": [
    {
     "data": {
      "text/plain": [
       "0.3211537"
      ]
     },
     "execution_count": 16,
     "metadata": {},
     "output_type": "execute_result"
    }
   ],
   "source": [
    "pred[0][0]"
   ]
  },
  {
   "cell_type": "code",
   "execution_count": 17,
   "id": "34ef3f13",
   "metadata": {},
   "outputs": [
    {
     "name": "stdout",
     "output_type": "stream",
     "text": [
      "No tumor detected\n"
     ]
    }
   ],
   "source": [
    "if pred[0][0] < 0.5:\n",
    "    print('No tumor detected')\n",
    "else:\n",
    "    print('Tumor Detected')"
   ]
  },
  {
   "cell_type": "markdown",
   "id": "0ee3943a",
   "metadata": {},
   "source": [
    "## Accuracy of model"
   ]
  },
  {
   "cell_type": "code",
   "execution_count": 18,
   "id": "0443e999",
   "metadata": {},
   "outputs": [
    {
     "name": "stderr",
     "output_type": "stream",
     "text": [
      "C:\\Users\\srilu\\AppData\\Local\\Temp/ipykernel_13000/1452447687.py:1: UserWarning: `Model.evaluate_generator` is deprecated and will be removed in a future version. Please use `Model.evaluate`, which supports generators.\n",
      "  model.evaluate_generator(test_dataset)[1]\n"
     ]
    },
    {
     "data": {
      "text/plain": [
       "0.800000011920929"
      ]
     },
     "execution_count": 18,
     "metadata": {},
     "output_type": "execute_result"
    }
   ],
   "source": [
    "model.evaluate_generator(test_dataset)[1]"
   ]
  },
  {
   "cell_type": "code",
   "execution_count": 19,
   "id": "f0123680",
   "metadata": {},
   "outputs": [],
   "source": [
    "history=hist.history.keys()"
   ]
  },
  {
   "cell_type": "code",
   "execution_count": 20,
   "id": "2cc89e70",
   "metadata": {},
   "outputs": [
    {
     "data": {
      "text/plain": [
       "Text(0.5, 1.0, 'Accuracy Curves')"
      ]
     },
     "execution_count": 20,
     "metadata": {},
     "output_type": "execute_result"
    },
    {
     "data": {
      "image/png": "[encoded data removed]",
      "text/plain": [
       "<Figure size 432x288 with 1 Axes>"
      ]
     },
     "metadata": {
      "needs_background": "light"
     },
     "output_type": "display_data"
    }
   ],
   "source": [
    "plt.plot(hist.history['accuracy'])\n",
    "plt.plot(hist.history['val_accuracy'],color='red')\n",
    "plt.title('Accuracy Curves')"
   ]
  },
  {
   "cell_type": "code",
   "execution_count": 21,
   "id": "46782861",
   "metadata": {},
   "outputs": [
    {
     "data": {
      "text/plain": [
       "Text(0.5, 1.0, 'Loss Curves')"
      ]
     },
     "execution_count": 21,
     "metadata": {},
     "output_type": "execute_result"
    },
    {
     "data": {
      "image/png": "[encoded data removed]",
      "text/plain": [
       "<Figure size 432x288 with 1 Axes>"
      ]
     },
     "metadata": {
      "needs_background": "light"
     },
     "output_type": "display_data"
    }
   ],
   "source": [
    "plt.plot(hist.history['loss'])\n",
    "plt.plot(hist.history['val_loss'],color='red')\n",
    "plt.title('Loss Curves')"
   ]
  },
  {
   "cell_type": "markdown",
   "id": "7d530dd2",
   "metadata": {},
   "source": [
    "import os\n",
    "os.environ['TF_XLA_FLAGS'] = '--tf_xla_enable_xla_devices'\n",
    "import streamlit as st\n",
    "from PIL import Image\n",
    "from tensorflow.keras import models\n",
    "from tensorflow.keras.preprocessing import image\n",
    "import numpy as np\n",
    "from tensorflow.keras.models import load_model\n",
    "model= load_model('model.h5')\n",
    "\n",
    "st.title('Brain Tumor Detection')\n",
    "st.subheader('Please upload your MRI')\n",
    "uploaded_image = st.file_uploader('Choose an image')\n",
    "\n",
    "def save_uploaded_image(uploaded_image):\n",
    "    try:\n",
    "        with open(os.path.join('uploads',uploaded_image.name),'wb') as f:\n",
    "            f.write(uploaded_image.getbuffer())\n",
    "        return True\n",
    "    except:\n",
    "        return False\n",
    "\n",
    "if uploaded_image is not None:\n",
    "    # save the image in a directory\n",
    "    if save_uploaded_image(uploaded_image):\n",
    "        # load the image\n",
    "        display_image = Image.open(uploaded_image)\n",
    "        img=image.load_img(os.path.join('uploads',uploaded_image.name),target_size=(224,224))\n",
    "        st.image(img)\n",
    "        x=image.img_to_array(img)\n",
    "        x=x/255\n",
    "        x=np.expand_dims(x,axis=0)\n",
    "        pred=model.predict(x)\n",
    "        if pred[0][0] < 0.6:\n",
    "            st.subheader('No Tumor Detected')\n",
    "        else:\n",
    "            st.subheader('Tumor Detected')"
   ]
  }
 ],
 "metadata": {
  "kernelspec": {
   "display_name": "Python 3",
   "language": "python",
   "name": "python3"
  },
  "language_info": {
   "codemirror_mode": {
    "name": "ipython",
    "version": 3
   },
   "file_extension": ".py",
   "mimetype": "text/x-python",
   "name": "python",
   "nbconvert_exporter": "python",
   "pygments_lexer": "ipython3",
   "version": "3.9.7"
  }
 },
 "nbformat": 4,
 "nbformat_minor": 5
}
